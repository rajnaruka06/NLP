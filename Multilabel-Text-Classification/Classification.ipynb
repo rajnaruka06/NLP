{
 "cells": [
  {
   "cell_type": "code",
   "execution_count": 1,
   "metadata": {},
   "outputs": [],
   "source": [
    "import pandas as pd             ## To work with the dataset\n",
    "import numpy as np              ## Linear Algebra and other stuff\n",
    "\n",
    "import matplotlib.pyplot as plt ## Visualization\n",
    "\n",
    "import warnings                 ## Don't like these\n",
    "warnings.filterwarnings('ignore')"
   ]
  },
  {
   "cell_type": "code",
   "execution_count": 2,
   "metadata": {},
   "outputs": [],
   "source": [
    "## Import the Dataset\n",
    "df = pd.read_csv(\"Data.csv\")"
   ]
  },
  {
   "cell_type": "code",
   "execution_count": 3,
   "metadata": {},
   "outputs": [
    {
     "data": {
      "text/html": [
       "<div>\n",
       "<style scoped>\n",
       "    .dataframe tbody tr th:only-of-type {\n",
       "        vertical-align: middle;\n",
       "    }\n",
       "\n",
       "    .dataframe tbody tr th {\n",
       "        vertical-align: top;\n",
       "    }\n",
       "\n",
       "    .dataframe thead th {\n",
       "        text-align: right;\n",
       "    }\n",
       "</style>\n",
       "<table border=\"1\" class=\"dataframe\">\n",
       "  <thead>\n",
       "    <tr style=\"text-align: right;\">\n",
       "      <th></th>\n",
       "      <th>TITLE</th>\n",
       "      <th>ABSTRACT</th>\n",
       "      <th>Computer Science</th>\n",
       "      <th>Physics</th>\n",
       "      <th>Mathematics</th>\n",
       "      <th>Statistics</th>\n",
       "      <th>Quantitative Biology</th>\n",
       "      <th>Quantitative Finance</th>\n",
       "      <th>labels</th>\n",
       "    </tr>\n",
       "  </thead>\n",
       "  <tbody>\n",
       "    <tr>\n",
       "      <th>0</th>\n",
       "      <td>ChemGAN challenge for drug discovery: can AI r...</td>\n",
       "      <td>Generating molecules with desired chemical p...</td>\n",
       "      <td>1</td>\n",
       "      <td>0</td>\n",
       "      <td>0</td>\n",
       "      <td>1</td>\n",
       "      <td>0</td>\n",
       "      <td>0</td>\n",
       "      <td>Computer Science,Statistics</td>\n",
       "    </tr>\n",
       "    <tr>\n",
       "      <th>1</th>\n",
       "      <td>Hybrid graphene tunneling photoconductor with ...</td>\n",
       "      <td>Hybrid graphene photoconductor/phototransist...</td>\n",
       "      <td>0</td>\n",
       "      <td>1</td>\n",
       "      <td>0</td>\n",
       "      <td>0</td>\n",
       "      <td>0</td>\n",
       "      <td>0</td>\n",
       "      <td>Physics</td>\n",
       "    </tr>\n",
       "    <tr>\n",
       "      <th>2</th>\n",
       "      <td>Temperature Dependence of Magnetic Excitations...</td>\n",
       "      <td>When an ordered spin system of a given dimen...</td>\n",
       "      <td>0</td>\n",
       "      <td>1</td>\n",
       "      <td>0</td>\n",
       "      <td>0</td>\n",
       "      <td>0</td>\n",
       "      <td>0</td>\n",
       "      <td>Physics</td>\n",
       "    </tr>\n",
       "    <tr>\n",
       "      <th>3</th>\n",
       "      <td>A Las Vegas algorithm to solve the elliptic cu...</td>\n",
       "      <td>In this paper, we describe a new Las Vegas a...</td>\n",
       "      <td>1</td>\n",
       "      <td>0</td>\n",
       "      <td>1</td>\n",
       "      <td>0</td>\n",
       "      <td>0</td>\n",
       "      <td>0</td>\n",
       "      <td>Computer Science,Mathematics</td>\n",
       "    </tr>\n",
       "    <tr>\n",
       "      <th>4</th>\n",
       "      <td>Comparing simulations and test data of a radia...</td>\n",
       "      <td>The VIS instrument on board the Euclid missi...</td>\n",
       "      <td>0</td>\n",
       "      <td>1</td>\n",
       "      <td>0</td>\n",
       "      <td>0</td>\n",
       "      <td>0</td>\n",
       "      <td>0</td>\n",
       "      <td>Physics</td>\n",
       "    </tr>\n",
       "  </tbody>\n",
       "</table>\n",
       "</div>"
      ],
      "text/plain": [
       "                                               TITLE  \\\n",
       "0  ChemGAN challenge for drug discovery: can AI r...   \n",
       "1  Hybrid graphene tunneling photoconductor with ...   \n",
       "2  Temperature Dependence of Magnetic Excitations...   \n",
       "3  A Las Vegas algorithm to solve the elliptic cu...   \n",
       "4  Comparing simulations and test data of a radia...   \n",
       "\n",
       "                                            ABSTRACT  Computer Science  \\\n",
       "0    Generating molecules with desired chemical p...                 1   \n",
       "1    Hybrid graphene photoconductor/phototransist...                 0   \n",
       "2    When an ordered spin system of a given dimen...                 0   \n",
       "3    In this paper, we describe a new Las Vegas a...                 1   \n",
       "4    The VIS instrument on board the Euclid missi...                 0   \n",
       "\n",
       "   Physics  Mathematics  Statistics  Quantitative Biology  \\\n",
       "0        0            0           1                     0   \n",
       "1        1            0           0                     0   \n",
       "2        1            0           0                     0   \n",
       "3        0            1           0                     0   \n",
       "4        1            0           0                     0   \n",
       "\n",
       "   Quantitative Finance                        labels  \n",
       "0                     0   Computer Science,Statistics  \n",
       "1                     0                       Physics  \n",
       "2                     0                       Physics  \n",
       "3                     0  Computer Science,Mathematics  \n",
       "4                     0                       Physics  "
      ]
     },
     "execution_count": 3,
     "metadata": {},
     "output_type": "execute_result"
    }
   ],
   "source": [
    "## Sneak Peek into the data\n",
    "df.head()"
   ]
  },
  {
   "cell_type": "code",
   "execution_count": 4,
   "metadata": {},
   "outputs": [
    {
     "data": {
      "text/plain": [
       "(17000, 9)"
      ]
     },
     "execution_count": 4,
     "metadata": {},
     "output_type": "execute_result"
    }
   ],
   "source": [
    "df.shape"
   ]
  },
  {
   "cell_type": "markdown",
   "metadata": {},
   "source": [
    "- The dataset is not huge.\n",
    "- We have 6 different labels.\n",
    "- One entry(book) can have more than one label. Final labels are recorded in 'labels' column.\n",
    "- We have to predict the labels for the given title and abstracts.\n",
    "- Multilabel classification problelm.\n",
    "- NLP problem\n"
   ]
  },
  {
   "cell_type": "code",
   "execution_count": 5,
   "metadata": {},
   "outputs": [
    {
     "data": {
      "text/plain": [
       "'  Generating molecules with desired chemical properties is important for drug\\ndiscovery. The use of generative neural networks is promising for this task.\\nHowever, from visual inspection, it often appears that generated samples lack\\ndiversity. In this paper, we quantify this internal chemical diversity, and we\\nraise the following challenge: can a nontrivial AI model reproduce natural\\nchemical diversity for desired molecules? To illustrate this question, we\\nconsider two generative models: a Reinforcement Learning model and the recently\\nintroduced ORGAN. Both fail at this challenge. We hope this challenge will\\nstimulate research in this direction.\\n'"
      ]
     },
     "execution_count": 5,
     "metadata": {},
     "output_type": "execute_result"
    }
   ],
   "source": [
    "## Take a look into the kind of texts that we'll be encountering.\n",
    "df['ABSTRACT'][0]"
   ]
  },
  {
   "cell_type": "markdown",
   "metadata": {},
   "source": [
    "#### Preprocessing:\n",
    "- Convert all text to lower english alphabets. (Could do upper as well. Consistancy is important.)\n",
    "- Word tokenization.\n",
    "- Removing stopwords. (Words that occur a lot in the corpus but add no special sense to data.)\n",
    "- Filtering only alphabet-words. (No special characters or numerical values.)\n",
    "- Using work lemmatization. (work, worked, works -> work)"
   ]
  },
  {
   "cell_type": "code",
   "execution_count": 6,
   "metadata": {},
   "outputs": [],
   "source": [
    "## Convert alphabets\n",
    "df['TITLE'] = df['TITLE'].apply(lambda x : x.lower())\n",
    "df['ABSTRACT'] = df['ABSTRACT'].apply(lambda x : x.lower())"
   ]
  },
  {
   "cell_type": "code",
   "execution_count": 7,
   "metadata": {},
   "outputs": [],
   "source": [
    "## Word tokenization\n",
    "from nltk.tokenize import word_tokenize\n",
    "df['TITLE'] = df['TITLE'].apply(word_tokenize)\n",
    "df['ABSTRACT'] = df['ABSTRACT'].apply(word_tokenize)"
   ]
  },
  {
   "cell_type": "code",
   "execution_count": 8,
   "metadata": {},
   "outputs": [],
   "source": [
    "## Removing stopwords\n",
    "from nltk.corpus import stopwords \n",
    "\n",
    "StopWords = set(stopwords.words('english'))\n",
    "\n",
    "def clean_words(x):\n",
    "    words = []\n",
    "    for i in x:\n",
    "        if i.isalnum() and i not in StopWords:\n",
    "            words.append(i)\n",
    "    return words\n",
    "\n",
    "df.loc[:,'TITLE'] = df['TITLE'].apply(clean_words)\n",
    "df.loc[:,'ABSTRACT'] = df['ABSTRACT'].apply(clean_words)"
   ]
  },
  {
   "cell_type": "code",
   "execution_count": 9,
   "metadata": {},
   "outputs": [],
   "source": [
    "## Lemmatization\n",
    "from nltk.stem import WordNetLemmatizer\n",
    "lemmatizer = WordNetLemmatizer()\n",
    "\n",
    "def lemma(l):\n",
    "    ans = set()\n",
    "    for word in l:\n",
    "        ans.add(lemmatizer.lemmatize(word))\n",
    "    return ans\n",
    "df['TITLE'] = df['TITLE'].apply(lambda x : lemma(x))\n",
    "df['ABSTRACT'] = df['ABSTRACT'].apply(lambda x : lemma(x))"
   ]
  },
  {
   "cell_type": "code",
   "execution_count": 10,
   "metadata": {},
   "outputs": [],
   "source": [
    "## Filtering alphabet-words\n",
    "\n",
    "def get_alpha(x):\n",
    "    l = []\n",
    "    for i in x:\n",
    "        if i.isalpha():\n",
    "            l.append(i)\n",
    "    return l\n",
    "\n",
    "df['ABSTRACT'] = df['ABSTRACT'].apply(get_alpha)"
   ]
  },
  {
   "cell_type": "code",
   "execution_count": 11,
   "metadata": {},
   "outputs": [],
   "source": [
    "## For tf-idf representation\n",
    "df['ABS_TF'] = df['ABSTRACT'].apply(lambda x : \" \".join(i for i in x))"
   ]
  },
  {
   "cell_type": "markdown",
   "metadata": {},
   "source": [
    "### Approach:\n",
    "- Can build 6 different classifiers and then use them.\n",
    "- Can treat the problem as a multi-class-classification problem. (Have to check total multi-class outputs. Number of all possible outcomes is huge.(6!))"
   ]
  },
  {
   "cell_type": "code",
   "execution_count": 12,
   "metadata": {},
   "outputs": [
    {
     "data": {
      "text/plain": [
       "24"
      ]
     },
     "execution_count": 12,
     "metadata": {},
     "output_type": "execute_result"
    }
   ],
   "source": [
    "## Number of classes if treated as multi-class problem\n",
    "df['labels'].nunique()"
   ]
  },
  {
   "cell_type": "markdown",
   "metadata": {},
   "source": [
    "- There are total of 24 classes. This won't be a big difficulty.\n",
    "- Let's check if we have some class imbalance problem as well."
   ]
  },
  {
   "cell_type": "code",
   "execution_count": 13,
   "metadata": {},
   "outputs": [
    {
     "data": {
      "text/plain": [
       "Physics                                             4151\n",
       "Computer Science                                    3975\n",
       "Mathematics                                         2925\n",
       "Computer Science,Statistics                         1881\n",
       "Statistics                                          1319\n",
       "Mathematics,Statistics                               674\n",
       "Computer Science,Mathematics                         533\n",
       "Quantitative Biology                                 358\n",
       "Computer Science,Physics                             357\n",
       "Physics,Mathematics                                  238\n",
       "Quantitative Finance                                 171\n",
       "Computer Science,Mathematics,Statistics              136\n",
       "Statistics,Quantitative Biology                       82\n",
       "Physics,Statistics                                    81\n",
       "Computer Science,Physics,Statistics                   31\n",
       "Computer Science,Quantitative Biology                 26\n",
       "Statistics,Quantitative Finance                       21\n",
       "Computer Science,Physics,Mathematics                  15\n",
       "Computer Science,Quantitative Finance                  8\n",
       "Physics,Mathematics,Statistics                         7\n",
       "Computer Science,Statistics,Quantitative Biology       5\n",
       "Quantitative Biology,Quantitative Finance              4\n",
       "Mathematics,Statistics,Quantitative Finance            1\n",
       "Computer Science,Statistics,Quantitative Finance       1\n",
       "Name: labels, dtype: int64"
      ]
     },
     "execution_count": 13,
     "metadata": {},
     "output_type": "execute_result"
    }
   ],
   "source": [
    "## Checking Class Imbalance scenario\n",
    "df['labels'].value_counts()"
   ]
  },
  {
   "cell_type": "markdown",
   "metadata": {},
   "source": [
    "- Dataset has a huge class imbalance problem.\n",
    "- Oversampling technique can be used to conquer this."
   ]
  },
  {
   "cell_type": "markdown",
   "metadata": {},
   "source": [
    "## Random Oversampling"
   ]
  },
  {
   "cell_type": "code",
   "execution_count": 14,
   "metadata": {},
   "outputs": [],
   "source": [
    "from imblearn.over_sampling import RandomOverSampler\n",
    "ros = RandomOverSampler(random_state=42)\n",
    "\n",
    "X = df[['ABS_TF']]\n",
    "y = df['labels']\n",
    "x_, y_ = ros.fit_resample(X, y)\n",
    "\n",
    "## x_ = x_['ABS_TF']"
   ]
  },
  {
   "cell_type": "code",
   "execution_count": 15,
   "metadata": {},
   "outputs": [
    {
     "data": {
      "text/plain": [
       "Computer Science,Statistics,Quantitative Finance    4151\n",
       "Computer Science,Mathematics,Statistics             4151\n",
       "Computer Science,Statistics                         4151\n",
       "Computer Science,Physics                            4151\n",
       "Physics,Statistics                                  4151\n",
       "Mathematics                                         4151\n",
       "Computer Science,Statistics,Quantitative Biology    4151\n",
       "Statistics,Quantitative Biology                     4151\n",
       "Computer Science,Physics,Statistics                 4151\n",
       "Quantitative Biology,Quantitative Finance           4151\n",
       "Physics                                             4151\n",
       "Computer Science,Physics,Mathematics                4151\n",
       "Mathematics,Statistics,Quantitative Finance         4151\n",
       "Physics,Mathematics                                 4151\n",
       "Quantitative Biology                                4151\n",
       "Computer Science                                    4151\n",
       "Computer Science,Quantitative Biology               4151\n",
       "Quantitative Finance                                4151\n",
       "Physics,Mathematics,Statistics                      4151\n",
       "Computer Science,Mathematics                        4151\n",
       "Statistics                                          4151\n",
       "Mathematics,Statistics                              4151\n",
       "Statistics,Quantitative Finance                     4151\n",
       "Computer Science,Quantitative Finance               4151\n",
       "Name: labels, dtype: int64"
      ]
     },
     "execution_count": 15,
     "metadata": {},
     "output_type": "execute_result"
    }
   ],
   "source": [
    "y_.value_counts()"
   ]
  },
  {
   "cell_type": "markdown",
   "metadata": {},
   "source": [
    "- All classes have same number of records.\n",
    "- Some classes have more repeated records than others.\n",
    "- For now, I'll mannualy resample the dataset once again."
   ]
  },
  {
   "cell_type": "code",
   "execution_count": 16,
   "metadata": {},
   "outputs": [],
   "source": [
    "x_['labels'] = y_"
   ]
  },
  {
   "cell_type": "code",
   "execution_count": 17,
   "metadata": {},
   "outputs": [],
   "source": [
    "## Classes that had most records before oversampling\n",
    "t = x_[((x_['labels']=='Physics' ) | (x_['labels']=='Computer Science'))]"
   ]
  },
  {
   "cell_type": "code",
   "execution_count": 18,
   "metadata": {},
   "outputs": [],
   "source": [
    "## Mannual Oversampling data of some classes\n",
    "x_ = pd.concat([x_, t])"
   ]
  },
  {
   "cell_type": "code",
   "execution_count": 19,
   "metadata": {},
   "outputs": [],
   "source": [
    "## Random sampling\n",
    "## x_ = x_.sample(frac=1)"
   ]
  },
  {
   "cell_type": "code",
   "execution_count": 20,
   "metadata": {},
   "outputs": [],
   "source": [
    "x_, y_ = x_['ABS_TF'], x_['labels']"
   ]
  },
  {
   "cell_type": "markdown",
   "metadata": {},
   "source": [
    "- WE'll use tf-idf vector representaion."
   ]
  },
  {
   "cell_type": "code",
   "execution_count": 21,
   "metadata": {},
   "outputs": [],
   "source": [
    "from sklearn.feature_extraction.text  import TfidfVectorizer\n",
    "tf = TfidfVectorizer(stop_words = 'english', ngram_range = (1,1))\n",
    "tf.fit(x_)\n",
    "\n",
    "## Train-Dev Set.\n",
    "from sklearn.model_selection import train_test_split\n",
    "x_train, x_test, y_train, y_test = train_test_split(x_, y_, test_size = 0.2, stratify = y_, random_state = 1)\n",
    "\n",
    "## Tf-IDF Transformation\n",
    "tf_x_train = tf.transform(x_train)\n",
    "tf_x_test = tf.transform(x_test)\n",
    "\n",
    "## Model evaluation\n",
    "from sklearn.metrics import accuracy_score, precision_score, recall_score, f1_score\n",
    "performance = {'Model' : [],\n",
    "              'Accuracy Score' : [],\n",
    "              'Precision Score' : [],\n",
    "              'Recall Score' : [],\n",
    "              'f1 Score' : []}"
   ]
  },
  {
   "cell_type": "markdown",
   "metadata": {},
   "source": [
    "### Will try different classification techniques and choose the one that performs best"
   ]
  },
  {
   "cell_type": "code",
   "execution_count": 22,
   "metadata": {},
   "outputs": [],
   "source": [
    "## Logistic Regression\n",
    "from sklearn.linear_model import LogisticRegression\n",
    "\n",
    "lr= LogisticRegression()\n",
    "lr.fit(tf_x_train, y_train)\n",
    "pred = lr.predict(tf_x_test)\n",
    "\n",
    "performance['Model'].append('LogisticRegression')\n",
    "performance['Accuracy Score'].append(accuracy_score(y_test, pred))\n",
    "performance['Precision Score'].append(precision_score(y_test, pred, average='macro'))\n",
    "performance['Recall Score'].append(recall_score(y_test, pred, average='macro'))\n",
    "performance['f1 Score'].append(f1_score(y_test, pred, average='macro'))"
   ]
  },
  {
   "cell_type": "code",
   "execution_count": 23,
   "metadata": {},
   "outputs": [],
   "source": [
    "## Support Vector Classifier\n",
    "from sklearn.svm import SVC\n",
    "\n",
    "svc = SVC()\n",
    "svc.fit(tf_x_train, y_train)\n",
    "pred = svc.predict(tf_x_test)\n",
    "\n",
    "performance['Model'].append('SVC')\n",
    "performance['Accuracy Score'].append(accuracy_score(y_test, pred))\n",
    "performance['Precision Score'].append(precision_score(y_test, pred, average='macro'))\n",
    "performance['Recall Score'].append(recall_score(y_test, pred, average='macro'))\n",
    "performance['f1 Score'].append(f1_score(y_test, pred, average='macro'))"
   ]
  },
  {
   "cell_type": "code",
   "execution_count": 24,
   "metadata": {},
   "outputs": [],
   "source": [
    "## Ensemble learning: Random Forest with default parameters\n",
    "from sklearn.ensemble import RandomForestClassifier\n",
    "\n",
    "rfc = RandomForestClassifier()\n",
    "rfc.fit(tf_x_train, y_train)\n",
    "pred = rfc.predict(tf_x_test)\n",
    "\n",
    "performance['Model'].append('Random Forest')\n",
    "performance['Accuracy Score'].append(accuracy_score(y_test, pred))\n",
    "performance['Precision Score'].append(precision_score(y_test, pred, average='macro'))\n",
    "performance['Recall Score'].append(recall_score(y_test, pred, average='macro'))\n",
    "performance['f1 Score'].append(f1_score(y_test, pred, average='macro'))"
   ]
  },
  {
   "cell_type": "code",
   "execution_count": 25,
   "metadata": {},
   "outputs": [
    {
     "data": {
      "text/html": [
       "<div>\n",
       "<style scoped>\n",
       "    .dataframe tbody tr th:only-of-type {\n",
       "        vertical-align: middle;\n",
       "    }\n",
       "\n",
       "    .dataframe tbody tr th {\n",
       "        vertical-align: top;\n",
       "    }\n",
       "\n",
       "    .dataframe thead th {\n",
       "        text-align: right;\n",
       "    }\n",
       "</style>\n",
       "<table border=\"1\" class=\"dataframe\">\n",
       "  <thead>\n",
       "    <tr style=\"text-align: right;\">\n",
       "      <th></th>\n",
       "      <th>Model</th>\n",
       "      <th>Accuracy Score</th>\n",
       "      <th>Precision Score</th>\n",
       "      <th>Recall Score</th>\n",
       "      <th>f1 Score</th>\n",
       "    </tr>\n",
       "  </thead>\n",
       "  <tbody>\n",
       "    <tr>\n",
       "      <th>0</th>\n",
       "      <td>LogisticRegression</td>\n",
       "      <td>0.949134</td>\n",
       "      <td>0.953254</td>\n",
       "      <td>0.953823</td>\n",
       "      <td>0.952900</td>\n",
       "    </tr>\n",
       "    <tr>\n",
       "      <th>1</th>\n",
       "      <td>SVC</td>\n",
       "      <td>0.985407</td>\n",
       "      <td>0.989040</td>\n",
       "      <td>0.986146</td>\n",
       "      <td>0.987475</td>\n",
       "    </tr>\n",
       "    <tr>\n",
       "      <th>2</th>\n",
       "      <td>Random Forest</td>\n",
       "      <td>0.984064</td>\n",
       "      <td>0.989464</td>\n",
       "      <td>0.984690</td>\n",
       "      <td>0.986759</td>\n",
       "    </tr>\n",
       "  </tbody>\n",
       "</table>\n",
       "</div>"
      ],
      "text/plain": [
       "                Model  Accuracy Score  Precision Score  Recall Score  f1 Score\n",
       "0  LogisticRegression        0.949134         0.953254      0.953823  0.952900\n",
       "1                 SVC        0.985407         0.989040      0.986146  0.987475\n",
       "2       Random Forest        0.984064         0.989464      0.984690  0.986759"
      ]
     },
     "execution_count": 25,
     "metadata": {},
     "output_type": "execute_result"
    }
   ],
   "source": [
    "pd.DataFrame(performance)"
   ]
  }
 ],
 "metadata": {
  "kernelspec": {
   "display_name": "Python 3",
   "language": "python",
   "name": "python3"
  },
  "language_info": {
   "codemirror_mode": {
    "name": "ipython",
    "version": 3
   },
   "file_extension": ".py",
   "mimetype": "text/x-python",
   "name": "python",
   "nbconvert_exporter": "python",
   "pygments_lexer": "ipython3",
   "version": "3.7.4"
  }
 },
 "nbformat": 4,
 "nbformat_minor": 2
}
